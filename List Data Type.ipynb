{
 "cells": [
  {
   "cell_type": "markdown",
   "id": "0bac9359-abd5-4f72-9fb9-9d4dc550ad2b",
   "metadata": {},
   "source": [
    "# List"
   ]
  },
  {
   "cell_type": "markdown",
   "id": "5b45e46c-d3a8-4893-928e-d4e9011174ef",
   "metadata": {},
   "source": [
    "List is allow to store multiple value in a single variable"
   ]
  },
  {
   "cell_type": "markdown",
   "id": "b1b30f5e-6c84-47f4-ae24-10462a75974e",
   "metadata": {},
   "source": [
    "List:\n",
    "i) Indexed\n",
    "ii) Ordered\n",
    "iii) Mutable\n",
    "iv) Any data type and duplicate are allowed\n",
    "v) Mixed different data type are allowed"
   ]
  },
  {
   "cell_type": "code",
   "execution_count": 1,
   "id": "b6918747-79c0-40d4-b4ad-edcadd3f167b",
   "metadata": {},
   "outputs": [
    {
     "name": "stdout",
     "output_type": "stream",
     "text": [
      "[12, 23, 53, 'Birbal kumar']\n"
     ]
    }
   ],
   "source": [
    "list=[12,23,53,\"Birbal kumar\"]\n",
    "print(list[:])"
   ]
  },
  {
   "cell_type": "code",
   "execution_count": 3,
   "id": "25cc039d-d66c-41a9-a40c-d862034ddf2b",
   "metadata": {},
   "outputs": [
    {
     "name": "stdout",
     "output_type": "stream",
     "text": [
      "[12, 23, 'DCE', 'Birbal kumar']\n"
     ]
    }
   ],
   "source": [
    "list[2]=\"DCE\"\n",
    "print(list[0:len(list)])"
   ]
  },
  {
   "cell_type": "markdown",
   "id": "4a09b761-df4e-44be-8447-06da53cda160",
   "metadata": {},
   "source": [
    "# Properties like Append,Insert,Extend"
   ]
  },
  {
   "cell_type": "markdown",
   "id": "67d673c7-4c19-462e-957b-6a1c2b9fb539",
   "metadata": {},
   "source": [
    "## Append"
   ]
  },
  {
   "cell_type": "code",
   "execution_count": 4,
   "id": "5c224ceb-170e-42f6-b595-c43c4b463851",
   "metadata": {},
   "outputs": [
    {
     "name": "stdout",
     "output_type": "stream",
     "text": [
      "[12, 43, 55, 34.54, 'DCE', 100]\n"
     ]
    }
   ],
   "source": [
    "list1=[12,43,55,34.54,\"DCE\"]\n",
    "list1.append(100)# it is add element at end position\n",
    "print(list1)\n"
   ]
  },
  {
   "cell_type": "markdown",
   "id": "fbb3de51-0c6f-40eb-84c3-6bb8a6c4c979",
   "metadata": {},
   "source": [
    "## Insert"
   ]
  },
  {
   "cell_type": "code",
   "execution_count": 5,
   "id": "d7a7ff22-4ac2-4d0c-9459-0d5e73491cf8",
   "metadata": {},
   "outputs": [
    {
     "name": "stdout",
     "output_type": "stream",
     "text": [
      "[0.23, 'India', 45, 67, 78, 'BEU', 65]\n"
     ]
    }
   ],
   "source": [
    "list2=[0.23,45,67,78,\"BEU\",65]\n",
    "list2.insert(1,\"India\") # Insert(index, value)\n",
    "print(list2)"
   ]
  },
  {
   "cell_type": "markdown",
   "id": "3a9500af-a677-423b-896a-3393f1efcf14",
   "metadata": {},
   "source": [
    "## Extend"
   ]
  },
  {
   "cell_type": "code",
   "execution_count": 9,
   "id": "ede5ff06-a217-405d-9a8a-749445192dce",
   "metadata": {},
   "outputs": [
    {
     "name": "stdout",
     "output_type": "stream",
     "text": [
      "[12, 43, 55, 34.54, 'DCE', 0.23, 45, 67, 78, 'BEU', 65] \n",
      " <class 'list'>\n"
     ]
    }
   ],
   "source": [
    "list1=[12,43,55,34.54,\"DCE\"]\n",
    "list2=[0.23,45,67,78,\"BEU\",65]\n",
    "list1.extend(list2) # it is add two list and also it is take one argument.\n",
    "print(list1,\"\\n\",type(list1))"
   ]
  },
  {
   "cell_type": "markdown",
   "id": "2a6dbae5-3bcc-41a2-9dca-898ba31398ae",
   "metadata": {},
   "source": [
    "# Removing element from a list"
   ]
  },
  {
   "cell_type": "markdown",
   "id": "bb21f399-d456-4974-99d6-b2d4bb431b72",
   "metadata": {},
   "source": [
    "## Remove"
   ]
  },
  {
   "cell_type": "code",
   "execution_count": 18,
   "id": "d1bed401-f8ac-4a9c-8d8d-132ef18c2ef0",
   "metadata": {},
   "outputs": [
    {
     "name": "stdout",
     "output_type": "stream",
     "text": [
      "['kumarBirbal', 23, 'BEU', 45, 77, 'DCE']\n"
     ]
    }
   ],
   "source": [
    "list=[\"kumarBirbal\",23,\"BEU\",45,77,\"DCE\"]\n",
    "print(list)"
   ]
  },
  {
   "cell_type": "code",
   "execution_count": 19,
   "id": "63c2d607-7a56-40f1-8543-ab75c05cda88",
   "metadata": {},
   "outputs": [
    {
     "name": "stdout",
     "output_type": "stream",
     "text": [
      "['kumarBirbal', 23, 45, 77, 'DCE']\n"
     ]
    }
   ],
   "source": [
    "list.remove('BEU') # it remove element who you are giving. and if element is not present in list then give error\n",
    "print(list)"
   ]
  },
  {
   "cell_type": "markdown",
   "id": "3b6d2a09-37fe-48d9-a0c1-cfc1d2b6a6d3",
   "metadata": {},
   "source": [
    "## Pop"
   ]
  },
  {
   "cell_type": "code",
   "execution_count": 21,
   "id": "ca41f08c-8fed-48bf-864a-ecf6a4de55ae",
   "metadata": {},
   "outputs": [
    {
     "name": "stdout",
     "output_type": "stream",
     "text": [
      "India\n"
     ]
    }
   ],
   "source": [
    "list=[34,5.6,\"BEU\",\"DCE\",\"Bihar\",\"India\"]\n",
    "print(list.pop()) # if you are not give index then it is delete last element"
   ]
  },
  {
   "cell_type": "code",
   "execution_count": 22,
   "id": "19e42495-feb1-4c0b-91b5-dd7f531cfb5c",
   "metadata": {},
   "outputs": [
    {
     "name": "stdout",
     "output_type": "stream",
     "text": [
      "BEU\n"
     ]
    }
   ],
   "source": [
    "print(list.pop(-3))"
   ]
  },
  {
   "cell_type": "markdown",
   "id": "08e2c826-cd33-43ff-9eec-56baf6b2227d",
   "metadata": {},
   "source": [
    "# Sort a list"
   ]
  },
  {
   "cell_type": "code",
   "execution_count": 35,
   "id": "51b52831-bfc4-4b74-82a0-2e03a808ac01",
   "metadata": {},
   "outputs": [
    {
     "name": "stdout",
     "output_type": "stream",
     "text": [
      "[-788, 23, 43, 5667]\n"
     ]
    }
   ],
   "source": [
    "list=[23,43,5667,-788]\n",
    "list.sort() # By default Ascending\n",
    "print(list)"
   ]
  },
  {
   "cell_type": "code",
   "execution_count": 36,
   "id": "9dd04477-b6a4-461d-ac99-abaeed0a6ff2",
   "metadata": {},
   "outputs": [
    {
     "name": "stdout",
     "output_type": "stream",
     "text": [
      "[5667, 43, 23, -788]\n"
     ]
    }
   ],
   "source": [
    "list.sort(reverse='True') # By default Descending\n",
    "print(list)"
   ]
  },
  {
   "cell_type": "code",
   "execution_count": 37,
   "id": "3416ad6e-5268-457b-9e7c-63df2bc84f7d",
   "metadata": {},
   "outputs": [
    {
     "name": "stdout",
     "output_type": "stream",
     "text": [
      "[-788, 23, 43, 5667]\n"
     ]
    }
   ],
   "source": [
    "list.reverse()\n",
    "print(list)"
   ]
  },
  {
   "cell_type": "code",
   "execution_count": 40,
   "id": "92038586-1d06-45ad-9b7a-ae8ab7fc2fad",
   "metadata": {},
   "outputs": [
    {
     "name": "stdout",
     "output_type": "stream",
     "text": [
      "['Arvind', 'BEU', 'Birbal', 'DCE', 'Gulshan', 'Lavkush']\n"
     ]
    }
   ],
   "source": [
    "list=[\"Birbal\",\"DCE\",\"BEU\",\"Lavkush\",'Gulshan',\"Arvind\"]\n",
    "list.sort()\n",
    "print(list)"
   ]
  },
  {
   "cell_type": "markdown",
   "id": "9b9ebfb6-5f69-4b0a-b8fb-75500743847e",
   "metadata": {},
   "source": [
    "# Neasted List"
   ]
  },
  {
   "cell_type": "code",
   "execution_count": 45,
   "id": "e696b4ae-61c4-4323-98e5-a8095464fb5a",
   "metadata": {},
   "outputs": [
    {
     "name": "stdout",
     "output_type": "stream",
     "text": [
      "88\n"
     ]
    }
   ],
   "source": [
    "list=[12,34,56,[45,76,88],89,7]\n",
    "print(list[3][2])"
   ]
  },
  {
   "cell_type": "code",
   "execution_count": 50,
   "id": "4be9b865-6da0-43c9-87a7-992ed97a8b70",
   "metadata": {},
   "outputs": [
    {
     "name": "stdout",
     "output_type": "stream",
     "text": [
      "7\n"
     ]
    }
   ],
   "source": [
    "print(list[5])"
   ]
  },
  {
   "cell_type": "code",
   "execution_count": null,
   "id": "48387f73-3389-4242-b57a-8dc70b1da527",
   "metadata": {},
   "outputs": [],
   "source": [
    "list=[]\n",
    "num=int(input(\"Enter size of list: \"))\n",
    "for i in range(num):\n",
    "    n=int(input(\"Enter integer number: \"))\n",
    "    list.append(n)\n",
    "\n",
    "print(\"you list element is : \",list)\n",
    "    "
   ]
  },
  {
   "cell_type": "markdown",
   "id": "0e60b706-f5e0-42f0-8603-a34b96f175eb",
   "metadata": {},
   "source": [
    "# Some Problem on List"
   ]
  },
  {
   "cell_type": "markdown",
   "id": "465255a6-f271-48fa-b052-c828e74afb1c",
   "metadata": {},
   "source": [
    "## Write a Python program to find the second largest element in a list without using the max() function twice."
   ]
  },
  {
   "cell_type": "code",
   "execution_count": null,
   "id": "7a957816-f248-4e9b-8266-4d9e3c682875",
   "metadata": {},
   "outputs": [],
   "source": [
    "list=[]\n",
    "n=int(input(\"Enter the size of list: \"))\n",
    "if n<2:\n",
    "    print(\"Enter at least two element\")\n",
    "    return 0\n",
    "for i in range(n):\n",
    "    new_list=int(input(\"Enter element: \"))\n",
    "    list.append(new_list)\n",
    "    \n",
    "list.sort()\n",
    "print(list)\n",
    "print(\"First_max_element is:\",list[-1])\n",
    "print(\"second_max_element is:\",list[-2])\n",
    "print(\"minimum_element is:\",list[0])\n",
    "\n"
   ]
  },
  {
   "cell_type": "markdown",
   "id": "955ef341-67cc-40b8-a245-37d5e6e2a024",
   "metadata": {},
   "source": [
    "# Write a program to remove all duplicate elements from a list while maintaining the order."
   ]
  },
  {
   "cell_type": "code",
   "execution_count": 17,
   "id": "a105dc2b-4173-4451-9a7c-8701702b1a45",
   "metadata": {},
   "outputs": [
    {
     "name": "stdin",
     "output_type": "stream",
     "text": [
      "Enter size of list:  6\n",
      "Enter elemetn: 15\n",
      "Enter elemetn: 24\n",
      "Enter elemetn: 45\n",
      "Enter elemetn: 36\n",
      "Enter elemetn: 25\n",
      "Enter elemetn: 45\n"
     ]
    },
    {
     "name": "stdout",
     "output_type": "stream",
     "text": [
      "[15, 24, 45, 36, 25]\n"
     ]
    }
   ],
   "source": [
    "list=[]\n",
    "n=int(input(\"Enter size of list: \"))\n",
    "for i in range(n):\n",
    "    new_list=int(input(\"Enter elemetn:\"))\n",
    "    list.append(new_list)\n",
    "# list2=set(list) But this is not maitain order\n",
    "visited=[] # Disadvantage is consume more memory\n",
    "for i in list:\n",
    "    if i not in visited:\n",
    "        visited.append(i)\n",
    "    \n",
    "print(visited)"
   ]
  },
  {
   "cell_type": "markdown",
   "id": "ad0cd395-9aa9-4e1d-862c-2e151f89ebed",
   "metadata": {},
   "source": [
    "# Write a Python program to rotate a list to the right by k positions."
   ]
  },
  {
   "cell_type": "code",
   "execution_count": 3,
   "id": "15127f63-f36d-4bfb-a1c5-4ae83b31b233",
   "metadata": {},
   "outputs": [
    {
     "name": "stdin",
     "output_type": "stream",
     "text": [
      "Enter size of your list:  5\n",
      "Enter element: 1\n",
      "Enter element: 2\n",
      "Enter element: 3\n",
      "Enter element: 4\n",
      "Enter element: 5\n",
      "Enter k position for rotation:  2\n"
     ]
    },
    {
     "name": "stdout",
     "output_type": "stream",
     "text": [
      "Your list before rotation:  [1, 2, 3, 4, 5]\n",
      "your list after rotation [4, 5, 1, 2, 3]\n"
     ]
    }
   ],
   "source": [
    "def rotation(list,n):\n",
    "    for i in range(n):\n",
    "        t=list[len(list)-1]\n",
    "        for j in range(len(list)-1,0,-1):\n",
    "            list[j]=list[j-1]\n",
    "        list[0]=t\n",
    "    return list\n",
    "\n",
    "size=int(input(\"Enter size of your list: \"))\n",
    "list=[]\n",
    "for i in range(size):\n",
    "    new_list=int(input(\"Enter element:\"))\n",
    "    list.append(new_list)\n",
    "\n",
    "n=int(input(\"Enter k position for rotation: \"))\n",
    "\n",
    "print(\"Your list before rotation: \",list[:])\n",
    "print(\"your list after rotation\",rotation(list,n))"
   ]
  },
  {
   "cell_type": "code",
   "execution_count": null,
   "id": "5514da2e-c727-467a-a097-8e2282eb1772",
   "metadata": {},
   "outputs": [],
   "source": []
  },
  {
   "cell_type": "code",
   "execution_count": null,
   "id": "bb6e1a12-9972-4fc2-9e77-3dd022a854df",
   "metadata": {},
   "outputs": [],
   "source": []
  }
 ],
 "metadata": {
  "kernelspec": {
   "display_name": "Python 3 (ipykernel)",
   "language": "python",
   "name": "python3"
  },
  "language_info": {
   "codemirror_mode": {
    "name": "ipython",
    "version": 3
   },
   "file_extension": ".py",
   "mimetype": "text/x-python",
   "name": "python",
   "nbconvert_exporter": "python",
   "pygments_lexer": "ipython3",
   "version": "3.12.4"
  }
 },
 "nbformat": 4,
 "nbformat_minor": 5
}
